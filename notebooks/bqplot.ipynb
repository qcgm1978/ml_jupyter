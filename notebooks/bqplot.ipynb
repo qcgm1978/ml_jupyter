{
 "cells": [
  {
   "source": [
    "# Chain rule\n",
    "\n",
    "In calculus, the chain rule is a formula to compute the derivative of a composite function.[Chain rule](https://en.wikipedia.org/wiki/Chain_rule). "
   ],
   "cell_type": "code",
   "metadata": {},
   "execution_count": null,
   "outputs": []
  },
  {
   "source": [
    "$f ∘ g$ — the function which maps x to ${\\displaystyle f(g(x))}f(g(x))$ — in terms of the derivatives of f and g and the product of functions as follows:\n",
    "\n",
    "$(f\\circ g)'=(f'\\circ g)\\cdot g'.$\n",
    "\n",
    " in Lagrange's notation, as follows:\n",
    "\n",
    "$F'(x)=f'(g(x))g'(x).$\n",
    "\n",
    "in Leibniz's notation \n",
    "\n",
    "${\\frac  {dz}{dx}}={\\frac  {dz}{dy}}\\cdot {\\frac  {dy}{dx}}.$\n",
    "\n",
    "${\\displaystyle \\left.{\\frac {dz}{dx}}\\right|_{x}=\\left.{\\frac {dz}{dy}}\\right|_{y(x)}\\cdot \\left.{\\frac {dy}{dx}}\\right|_{x}}.$"
   ],
   "cell_type": "markdown",
   "metadata": {}
  },
  {
   "source": [
    "## One dimension\n",
    "\n",
    "height above sea level in meters: g(t) = 4000 − 4.9t**2\n",
    "atmospheric pressure at a height h is: f(h) = 101325 e−0.0001h\n",
    "\n",
    "g′(t) = −9.8t\n",
    "f′(h) = −10.1325e−0.0001h\n",
    "(f ∘ g)(t) \n",
    "(f ∘ g)′(t) \n",
    "\n",
    "$(f \\circ g)'(t) = f'(g(t))\\cdot g'(t).$\n",
    "$(f \\circ g)'(t) = \\big(\\mathord{-}10.1325e^{-0.0001(4000 - 4.9t^2)}\\big)\\cdot\\big(\\mathord{-}9.8t\\big).$\n"
   ],
   "cell_type": "markdown",
   "metadata": {}
  },
  {
   "cell_type": "code",
   "execution_count": null,
   "metadata": {},
   "outputs": [],
   "source": [
    "\n",
    "import math\n",
    "from sympy import *\n",
    "import pint\n",
    "def cal_units():\n",
    "    ureg = pint.UnitRegistry()\n",
    "    return ureg.pascal*(ureg['meter/second**2'] * ureg.second**2)**-1*ureg.meter/ureg.second**2*ureg.second\n",
    "def get_change_rate( seconds):\n",
    "    # (f \\circ g)'(t) = f'(g(t))\\cdot g'(t).\n",
    "    if cal_units().units=='pascal / second':\n",
    "        t, e = symbols('t e')\n",
    "        g_t='1/2*g*t**2'#.5*g*((t+h)**2-t**2)/h, .5*g*2t=g*t\n",
    "        h='4000-{0}'.format(g_t)\n",
    "        f_prime_h = '-10.1325*e**(-0.0001*({0}))'.format(h)\n",
    "        g_t_prime='g*t'\n",
    "        f_g_prime_t = '{0}*(-{1})'.format(f_prime_h, g_t_prime)\n",
    "        print(f_g_prime_t)\n",
    "        change_rate = sympify(f_g_prime_t).evalf(subs={'t': seconds, 'e': math.e,'g':9.8})\n",
    "        return change_rate\n",
    "!python3 \"tests/calculus/test_units.py\"\n",
    "print(\"completed unit test inside the notebook\")"
   ]
  },
  {
   "source": [],
   "cell_type": "code",
   "metadata": {},
   "execution_count": null,
   "outputs": []
  },
  {
   "cell_type": "code",
   "execution_count": null,
   "metadata": {},
   "outputs": [],
   "source": [
    "\n",
    "import numpy as np\n",
    "from bqplot import pyplot as plt\n",
    "\n",
    "plt.figure(1, title='Line Chart')\n",
    "np.random.seed(0)\n",
    "n = 200\n",
    "x = np.linspace(0.0, 10.0, n)\n",
    "y = np.cumsum(np.random.randn(n))\n",
    "plt.plot(x, y)\n",
    "plt.show()"
   ]
  },
  {
   "cell_type": "code",
   "execution_count": null,
   "metadata": {},
   "outputs": [],
   "source": [
    "def add(a, b):\n",
    "    return a + b"
   ]
  },
  {
   "cell_type": "code",
   "execution_count": null,
   "metadata": {},
   "outputs": [],
   "source": [
    "import unittest\n",
    "\n",
    "class TestNotebook(unittest.TestCase):\n",
    "    \n",
    "    def test_add(self):\n",
    "        self.assertEqual(add(2, 2), )\n",
    "        \n",
    "\n",
    "unittest.main(argv=[''], verbosity=2, exit=False)"
   ]
  },
  {
   "cell_type": "code",
   "execution_count": null,
   "metadata": {},
   "outputs": [],
   "source": []
  }
 ],
 "metadata": {
  "kernelspec": {
   "name": "Python 3.8.1 64-bit",
   "language": "python",
   "display_name": "Python 3.8.1 64-bit",
   "metadata": {
    "interpreter": {
     "hash": "0adcc2737ebf6a4a119f135174df96668767fca1ef1112612db5ecadf2b6d608"
    }
   }
  },
  "language_info": {
   "codemirror_mode": {
    "name": "ipython",
    "version": 3
   },
   "file_extension": ".py",
   "mimetype": "text/x-python",
   "name": "python",
   "nbconvert_exporter": "python",
   "pygments_lexer": "ipython3",
   "version": "3.8.1-final"
  },
  "voila": {
   "theme": "dark"
  }
 },
 "nbformat": 4,
 "nbformat_minor": 2
}